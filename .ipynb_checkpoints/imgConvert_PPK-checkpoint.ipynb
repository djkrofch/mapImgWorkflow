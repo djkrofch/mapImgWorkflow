{
 "cells": [
  {
   "cell_type": "markdown",
   "metadata": {},
   "source": [
    "## Workflow to convert collected RAW image files \n",
    "and append appropriate geotags from post-processed kinematic GNSS clock data."
   ]
  },
  {
   "cell_type": "markdown",
   "metadata": {},
   "source": [
    "### Required libraries"
   ]
  },
  {
   "cell_type": "code",
   "execution_count": 435,
   "metadata": {
    "collapsed": false
   },
   "outputs": [],
   "source": [
    "import rawpy\n",
    "import rawpy.enhance\n",
    "import io\n",
    "from PIL import Image\n",
    "import piexif\n",
    "from math import *\n",
    "import os\n",
    "import pandas as pd\n",
    "import numpy as np\n",
    "import matplotlib.pyplot as plt\n",
    "\n",
    "%matplotlib inline\n",
    "\n",
    "dataDir = 'Y:/DanK/SfM/Teakettle_2017/Photos/BC1_1/'\n",
    "outputDir = dataDir + 'tifOutput/'"
   ]
  },
  {
   "cell_type": "markdown",
   "metadata": {},
   "source": [
    "### Generate list of images to process\n",
    "Quickly generate a full list of image names, as well as a full list of the fully qualified image name. "
   ]
  },
  {
   "cell_type": "code",
   "execution_count": 444,
   "metadata": {
    "collapsed": false
   },
   "outputs": [],
   "source": [
    "imgList      =  next(os.walk(dataDir))[2]\n",
    "fullImgNames = [next(os.walk(dataDir))[0] + s for s in imageDir]"
   ]
  },
  {
   "cell_type": "markdown",
   "metadata": {},
   "source": [
    "### Read in the RAW image\n",
    "and convert it to a tif with a specific set of parameters to control brightness, and bit depth. Currently it was far simpler to append exif data with specific geotags to a JPEG compressed version of the image. That being said, we ultimately want to be operating on the 16 bit version of teh geoTIFF output from the RAW version of the image. For the time being, the current workflow is to read in the RAW image, export an 8 bit tif, and create a JPEG compressed copy that contains the geolocation exif data.\n",
    "\n",
    "### Identifying which image should be associated with which _event.pos_ record\n",
    "is a matter of sorting the events with and the images, then doing some checking after the fact. First, some helper functions to find the correct event file, parse its header information and read it in as a dataframe, and format the data that we will grab from each column correctly for the exif information. "
   ]
  },
  {
   "cell_type": "code",
   "execution_count": null,
   "metadata": {
    "collapsed": true
   },
   "outputs": [],
   "source": [
    "# return position file location (*.pos) from inside image directory\n",
    "#decimal degrees to degrees, minutes, seconds\n",
    "def gen_DDMMSS(degrees):\n",
    "    minutes = degrees%1.0*60\n",
    "    seconds = degrees%1.0*60    \n",
    "    return ((abs(int(floor(degrees))), 1), \n",
    "            (int(floor(minutes*100)), 100), \n",
    "            (int(floor(seconds*100000)), 100000))\n",
    "\n",
    "def gen_GPSDATE(date, gpst):\n",
    "    date = date.replace('/', ':')\n",
    "    GPS_TS = date + ' ' + gpst\n",
    "    return unicode(GPS_TS)\n",
    "\n",
    "def gen_HEIGHT(height):\n",
    "    modheight = (int(floor(height * 10000)), 10000)\n",
    "    return modheight\n",
    "\n",
    "def getSortedImages(imageDir):\n",
    "    imglist = next(os.walk(imageDir))[2]\n",
    "    filtImgs = filter(lambda s: '.tiff' in str(s), imglist)\n",
    "    return sorted(filtImgs)\n",
    "\n",
    "def get_pos_file(outputDir):\n",
    "    # Find the .pos file in the processed tif directory\n",
    "    for filename in os.listdir(outputDir):\n",
    "        if filename.endswith(\".pos\"):\n",
    "            ppkPos = filename\n",
    "            \n",
    "            # Read in the pos file and correct the column headers\n",
    "            # and return it\n",
    "            df = pd.read_csv(outputDir + ppkPos, header = 24, sep=r\"\\s*\")\n",
    "            posDF = df.rename(columns={'%': 'Date'})\n",
    "            return posDF"
   ]
  },
  {
   "cell_type": "markdown",
   "metadata": {},
   "source": [
    "### This makes the workflow fairly straight forward\n",
    "First the PPK file generated using an EMLID Reach radio is generated as a pandas dataframe, and the sorted image list associated with the specific collection is appended to that dataframe. This lets us 1) check that the number of photos matches the number of 'events' tags in the collection. Currently, using a Sony a6000 and a hotshoe trigger on the Reach, every time the shutter activates, a log file should be entered into the events file. However, after a ton of misery, I figured out that if the fix status of the GNSS receiver at the time of the image acquisition was 'single', meaning not able to be corrected in the context of a base station, the trigger event is removed from the events list -- the problem being, we don't know which photo that corresponds with, and because we rely on the order of images matching up with the order of evens triggerd by the Reach, that puts us SOL."
   ]
  },
  {
   "cell_type": "code",
   "execution_count": 513,
   "metadata": {
    "collapsed": false
   },
   "outputs": [
    {
     "name": "stderr",
     "output_type": "stream",
     "text": [
      "C:\\Anaconda\\lib\\site-packages\\IPython\\kernel\\__main__.py:10: ParserWarning: Falling back to the 'python' engine because the 'c' engine does not support regex separators; you can avoid this warning by specifying engine='python'.\n"
     ]
    },
    {
     "data": {
      "text/html": [
       "<div>\n",
       "<table border=\"1\" class=\"dataframe\">\n",
       "  <thead>\n",
       "    <tr style=\"text-align: right;\">\n",
       "      <th></th>\n",
       "      <th>Date</th>\n",
       "      <th>GPST</th>\n",
       "      <th>latitude(deg)</th>\n",
       "      <th>longitude(deg)</th>\n",
       "      <th>height(m)</th>\n",
       "      <th>Q</th>\n",
       "      <th>ns</th>\n",
       "      <th>sdn(m)</th>\n",
       "      <th>sde(m)</th>\n",
       "      <th>sdu(m)</th>\n",
       "      <th>sdne(m)</th>\n",
       "      <th>sdeu(m)</th>\n",
       "      <th>sdun(m)</th>\n",
       "      <th>age(s)</th>\n",
       "      <th>ratio</th>\n",
       "      <th>images</th>\n",
       "    </tr>\n",
       "  </thead>\n",
       "  <tbody>\n",
       "    <tr>\n",
       "      <th>0</th>\n",
       "      <td>2017/06/20</td>\n",
       "      <td>17:35:34.655</td>\n",
       "      <td>36.958004</td>\n",
       "      <td>-119.022528</td>\n",
       "      <td>2006.2499</td>\n",
       "      <td>1</td>\n",
       "      <td>12</td>\n",
       "      <td>0.0060</td>\n",
       "      <td>0.0061</td>\n",
       "      <td>0.0153</td>\n",
       "      <td>-0.0017</td>\n",
       "      <td>0.0043</td>\n",
       "      <td>-0.0051</td>\n",
       "      <td>-0.0</td>\n",
       "      <td>16.3</td>\n",
       "      <td>DSC00068.ARW.tiff</td>\n",
       "    </tr>\n",
       "    <tr>\n",
       "      <th>1</th>\n",
       "      <td>2017/06/20</td>\n",
       "      <td>17:38:25.056</td>\n",
       "      <td>36.957581</td>\n",
       "      <td>-119.023345</td>\n",
       "      <td>2106.0327</td>\n",
       "      <td>1</td>\n",
       "      <td>14</td>\n",
       "      <td>0.0059</td>\n",
       "      <td>0.0056</td>\n",
       "      <td>0.0134</td>\n",
       "      <td>-0.0015</td>\n",
       "      <td>0.0043</td>\n",
       "      <td>-0.0036</td>\n",
       "      <td>-0.0</td>\n",
       "      <td>9.8</td>\n",
       "      <td>DSC00069.ARW.tiff</td>\n",
       "    </tr>\n",
       "    <tr>\n",
       "      <th>2</th>\n",
       "      <td>2017/06/20</td>\n",
       "      <td>17:38:29.294</td>\n",
       "      <td>36.957752</td>\n",
       "      <td>-119.023369</td>\n",
       "      <td>2106.0288</td>\n",
       "      <td>1</td>\n",
       "      <td>13</td>\n",
       "      <td>0.0061</td>\n",
       "      <td>0.0061</td>\n",
       "      <td>0.0145</td>\n",
       "      <td>-0.0020</td>\n",
       "      <td>0.0057</td>\n",
       "      <td>-0.0041</td>\n",
       "      <td>-0.0</td>\n",
       "      <td>247.1</td>\n",
       "      <td>DSC00070.ARW.tiff</td>\n",
       "    </tr>\n",
       "    <tr>\n",
       "      <th>3</th>\n",
       "      <td>2017/06/20</td>\n",
       "      <td>17:38:33.098</td>\n",
       "      <td>36.957921</td>\n",
       "      <td>-119.023393</td>\n",
       "      <td>2105.9740</td>\n",
       "      <td>1</td>\n",
       "      <td>12</td>\n",
       "      <td>0.0063</td>\n",
       "      <td>0.0060</td>\n",
       "      <td>0.0148</td>\n",
       "      <td>-0.0025</td>\n",
       "      <td>0.0055</td>\n",
       "      <td>-0.0053</td>\n",
       "      <td>-0.0</td>\n",
       "      <td>179.9</td>\n",
       "      <td>DSC00071.ARW.tiff</td>\n",
       "    </tr>\n",
       "    <tr>\n",
       "      <th>4</th>\n",
       "      <td>2017/06/20</td>\n",
       "      <td>17:38:36.634</td>\n",
       "      <td>36.958080</td>\n",
       "      <td>-119.023410</td>\n",
       "      <td>2105.9893</td>\n",
       "      <td>1</td>\n",
       "      <td>13</td>\n",
       "      <td>0.0060</td>\n",
       "      <td>0.0060</td>\n",
       "      <td>0.0144</td>\n",
       "      <td>-0.0023</td>\n",
       "      <td>0.0054</td>\n",
       "      <td>-0.0046</td>\n",
       "      <td>-0.0</td>\n",
       "      <td>34.6</td>\n",
       "      <td>DSC00072.ARW.tiff</td>\n",
       "    </tr>\n",
       "  </tbody>\n",
       "</table>\n",
       "</div>"
      ],
      "text/plain": [
       "         Date          GPST  latitude(deg)  longitude(deg)  height(m)  Q  ns  \\\n",
       "0  2017/06/20  17:35:34.655      36.958004     -119.022528  2006.2499  1  12   \n",
       "1  2017/06/20  17:38:25.056      36.957581     -119.023345  2106.0327  1  14   \n",
       "2  2017/06/20  17:38:29.294      36.957752     -119.023369  2106.0288  1  13   \n",
       "3  2017/06/20  17:38:33.098      36.957921     -119.023393  2105.9740  1  12   \n",
       "4  2017/06/20  17:38:36.634      36.958080     -119.023410  2105.9893  1  13   \n",
       "\n",
       "   sdn(m)  sde(m)  sdu(m)  sdne(m)  sdeu(m)  sdun(m)  age(s)  ratio  \\\n",
       "0  0.0060  0.0061  0.0153  -0.0017   0.0043  -0.0051    -0.0   16.3   \n",
       "1  0.0059  0.0056  0.0134  -0.0015   0.0043  -0.0036    -0.0    9.8   \n",
       "2  0.0061  0.0061  0.0145  -0.0020   0.0057  -0.0041    -0.0  247.1   \n",
       "3  0.0063  0.0060  0.0148  -0.0025   0.0055  -0.0053    -0.0  179.9   \n",
       "4  0.0060  0.0060  0.0144  -0.0023   0.0054  -0.0046    -0.0   34.6   \n",
       "\n",
       "              images  \n",
       "0  DSC00068.ARW.tiff  \n",
       "1  DSC00069.ARW.tiff  \n",
       "2  DSC00070.ARW.tiff  \n",
       "3  DSC00071.ARW.tiff  \n",
       "4  DSC00072.ARW.tiff  "
      ]
     },
     "execution_count": 513,
     "metadata": {},
     "output_type": "execute_result"
    }
   ],
   "source": [
    "# Here's what the events file looks like with the appended photo names\n",
    "ppk_events = get_pos_file(outputDir)\n",
    "imglist = getSortedImages(outputDir)\n",
    "ppk_events['images'] = imglist\n",
    "ppk_events.head()"
   ]
  },
  {
   "cell_type": "code",
   "execution_count": null,
   "metadata": {
    "collapsed": true
   },
   "outputs": [],
   "source": [
    "ppk_events.plot"
   ]
  },
  {
   "cell_type": "markdown",
   "metadata": {},
   "source": [
    "### Now we have to make some directories\n",
    "so that we can operate on copies of the original images, edit their exif data, and save them as jpegs. I'd prefer to handle everything with as little loss in quality as possible, meaning a 16 bit GeoTIFF, but for now JPEG was the best I could muster. Editing exif data is decidedly haneous."
   ]
  },
  {
   "cell_type": "code",
   "execution_count": 445,
   "metadata": {
    "collapsed": true
   },
   "outputs": [],
   "source": [
    "if not os.path.exists(outputDir):\n",
    "    os.makedirs(outputDir)\n",
    "    \n",
    "if not os.path.exists(outputDir + 'geoJPEG/'):\n",
    "    os.makedirs(outputDir + 'geoJPEG/')\n",
    "\n",
    "for img in imgList:\n",
    "    # print 'post-processing ' + img + ' to tif...'\n",
    "    ARWimgage = rawpy.imread(dataDir + img)\n",
    "    TIFimage = ARWimgage.postprocess(output_bps = 8)\n",
    "    imageio.imwrite(outputDir + img + '.tiff', TIFimage)\n",
    "    \n",
    "procList      =  next(os.walk(outputDir))[2]\n",
    "fullProcNames = [next(os.walk(outputDir))[0] + s for s in procList]"
   ]
  },
  {
   "cell_type": "code",
   "execution_count": 499,
   "metadata": {
    "collapsed": false
   },
   "outputs": [],
   "source": [
    "height = gen_HEIGHT(test['height(m)'][0])\n",
    "gpst   = gen_GPSDATE(test.Date[0], test.GPST[0])\n",
    "lat    = gen_DDMMSS(test['latitude(deg)'][0])\n",
    "lon    = gen_DDMMSS(test['longitude(deg)'][0])\n",
    "\n",
    "exif_dict = piexif.load(outputDir + procList[0])\n",
    "\n",
    "gps_if = { piexif.GPSIFD.GPSVersionID: (2, 3, 0, 0),\n",
    "           piexif.GPSIFD.GPSLatitude: deg_min_sec(test['latitude(deg)'][0]),\n",
    "           piexif.GPSIFD.GPSLatitudeRef: 'N',\n",
    "           piexif.GPSIFD.GPSLongitude: deg_min_sec(test['longitude(deg)'][0]),\n",
    "           piexif.GPSIFD.GPSLongitudeRef: 'W',\n",
    "           piexif.GPSIFD.GPSAltitude: (int(floor(test['height(m)'][0] * 10000)), 10000),\n",
    "           piexif.GPSIFD.GPSAltitudeRef: 0,\n",
    "           piexif.GPSIFD.GPSDateStamp: unicode(GPS_TS)\n",
    "          }\n",
    "\n",
    "exif_dict['GPS'] = gps_if\n",
    "exifbytes = piexif.dump(exif_dict)\n",
    "im = Image.open(outputDir + procList[0])\n",
    "im.save(outputDir + 'geoJPEG/' + procList[0], \"jpeg\", exif=exifbytes)\n"
   ]
  },
  {
   "cell_type": "code",
   "execution_count": 476,
   "metadata": {
    "collapsed": false
   },
   "outputs": [
    {
     "data": {
      "text/plain": [
       "{'0th': {256: 6024,\n",
       "  257: 4024,\n",
       "  258: (8, 8, 8),\n",
       "  259: 1,\n",
       "  262: 2,\n",
       "  273: 140,\n",
       "  277: 3,\n",
       "  278: 4024,\n",
       "  279: 72721728,\n",
       "  284: 1},\n",
       " '1st': {},\n",
       " 'Exif': {},\n",
       " 'GPS': {},\n",
       " 'Interop': {},\n",
       " 'thumbnail': None}"
      ]
     },
     "execution_count": 476,
     "metadata": {},
     "output_type": "execute_result"
    }
   ],
   "source": [
    "gps_if = { piexif.GPSIFD.GPSVersionID: (2, 3, 0, 0),\n",
    "           piexif.GPSIFD.GPSLatitude: deg_min_sec(test['latitude(deg)'][0]),\n",
    "           piexif.GPSIFD.GPSLatitudeRef: 'N',\n",
    "           piexif.GPSIFD.GPSLongitude: deg_min_sec(test['longitude(deg)'][0]),\n",
    "           piexif.GPSIFD.GPSLongitudeRef: 'W',\n",
    "           piexif.GPSIFD.GPSAltitude: (int(floor(test['height(m)'][0] * 10000)), 10000),\n",
    "           piexif.GPSIFD.GPSAltitudeRef: 0,\n",
    "           piexif.GPSIFD.GPSDateStamp: unicode(GPS_TS)\n",
    "          }\n",
    "\n",
    "exif_dict = {'GPS':zeroth_ifd}\n",
    "exif_bytes = piexif.dump(exif_dict)\n",
    "\n",
    "with open(dest, 'r+b') as f:\n",
    "    with Image.open(dest,'r') as image:\n",
    "        image.save(dest, \"jpeg\", exif=exif_bytes)"
   ]
  }
 ],
 "metadata": {
  "kernelspec": {
   "display_name": "Python 2",
   "language": "python",
   "name": "python2"
  },
  "language_info": {
   "codemirror_mode": {
    "name": "ipython",
    "version": 2
   },
   "file_extension": ".py",
   "mimetype": "text/x-python",
   "name": "python",
   "nbconvert_exporter": "python",
   "pygments_lexer": "ipython2",
   "version": "2.7.12"
  }
 },
 "nbformat": 4,
 "nbformat_minor": 0
}
