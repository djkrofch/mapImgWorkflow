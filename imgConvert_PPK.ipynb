{
 "cells": [
  {
   "cell_type": "markdown",
   "metadata": {},
   "source": [
    "## Workflow to process and geotag RAW image files \n",
    "This workflow aims to be a single point of reference for what appears to be a challenging and cryptic process, laden with labourious command line programs or third party software. This workflow is specific in its use, and requires data input from post processed kinematic (PPK) GNSS receivers, namely produced by EMLID, and open source, light-weight alternative to the more commonly employed big names like Trimble. \n",
    "\n",
    "The general workflow here is to take PPK event logs, associate them with image names, and assign exif GPS location data to the images. If the images are collected in RAW format, a RAW - 8 or 16 bit tiff conversion can be inserted into the workflow. See the code and examples below for clarity."
   ]
  },
  {
   "cell_type": "markdown",
   "metadata": {},
   "source": [
    "### Required libraries"
   ]
  },
  {
   "cell_type": "code",
   "execution_count": 521,
   "metadata": {
    "collapsed": false
   },
   "outputs": [],
   "source": [
    "import rawpy\n",
    "import rawpy.enhance\n",
    "import io\n",
    "from PIL import Image\n",
    "import piexif\n",
    "from math import *\n",
    "import os\n",
    "import pandas as pd\n",
    "import numpy as np\n",
    "import seaborn as sns\n",
    "import matplotlib.pyplot as plt\n",
    "\n",
    "%matplotlib inline\n",
    "\n",
    "dataDir = 'Y:/DanK/SfM/Teakettle_2017/Photos/BC1_1/'\n",
    "outputDir = dataDir + 'tifOutput/'"
   ]
  },
  {
   "cell_type": "markdown",
   "metadata": {},
   "source": [
    "### Function definition\n",
    "The overall process here is to manage reading in and converting imagery to a useable format, reading in PPK event logs and generating apropriate exif data for establishing geotags, then inserting the updated exif data into a new copy of the image."
   ]
  },
  {
   "cell_type": "code",
   "execution_count": 610,
   "metadata": {
    "collapsed": true
   },
   "outputs": [],
   "source": [
    "# return position file location (*.pos) from inside image directory\n",
    "#decimal degrees to degrees, minutes, seconds\n",
    "def gen_DDMMSS(degrees):\n",
    "    minutes = degrees%1.0*60\n",
    "    seconds = degrees%1.0*60    \n",
    "    return ((abs(int(floor(degrees))), 1), \n",
    "            (int(floor(minutes*100)), 100), \n",
    "            (int(floor(seconds*100000)), 100000))\n",
    "\n",
    "def gen_GPSDATE(date, gpst):\n",
    "    date = date.replace('/', ':')\n",
    "    GPS_TS = date + ' ' + gpst\n",
    "    return unicode(GPS_TS)\n",
    "\n",
    "def gen_HEIGHT(height):\n",
    "    modheight = (int(floor(height * 10000)), 10000)\n",
    "    return modheight\n",
    "\n",
    "def getSortedImages(imageDir, filetype):\n",
    "    imglist = next(os.walk(imageDir))[2]\n",
    "    filtImgs = filter(lambda s: filetype in str(s), imglist)\n",
    "    return sorted(filtImgs)\n",
    "\n",
    "def gen_GPSexif(height, gpst, lat, lon):   \n",
    "        gps_if = { piexif.GPSIFD.GPSVersionID: (2, 3, 0, 0),\n",
    "           piexif.GPSIFD.GPSLatitude: lat,\n",
    "           piexif.GPSIFD.GPSLatitudeRef: 'N',\n",
    "           piexif.GPSIFD.GPSLongitude: lon,\n",
    "           piexif.GPSIFD.GPSLongitudeRef: 'W',\n",
    "           piexif.GPSIFD.GPSAltitude: height,\n",
    "           piexif.GPSIFD.GPSAltitudeRef: 0,\n",
    "           piexif.GPSIFD.GPSDateStamp: gpst\n",
    "          }\n",
    "        return gps_if\n",
    "\n",
    "def get_pos_file(inputDir):\n",
    "    # Find the .pos file in the processed tif directory\n",
    "    for filename in os.listdir(inputDir):\n",
    "        if filename.endswith(\".pos\"):\n",
    "            ppkPos = filename\n",
    "            \n",
    "            # Read in the pos file and correct the column headers\n",
    "            # and return it\n",
    "            df = pd.read_csv(inputDir + ppkPos, header = 24, sep=r\"\\s*\")\n",
    "            posDF = df.rename(columns={'%': 'Date'})\n",
    "            return posDF\n",
    "        \n",
    "def plotEvents(PPK_Events):\n",
    "    f, (ax) = plt.subplots(1,1, figsize =(7,7))\n",
    "    sns.set_style('ticks')\n",
    "    sns.set_context('notebook', font_scale=1.5)\n",
    "    sns.despine(left=True, bottom=True)\n",
    "    C = ['green','gray','orange']\n",
    "    labs = ['Integer','Float','Single']\n",
    "    y = PPK_Events['latitude(deg)']\n",
    "    x = PPK_Events['longitude(deg)']\n",
    "    ax.plot(x, y, '--', color = 'gray', alpha = 0.5)\n",
    "\n",
    "    idx = 0\n",
    "    for thisQ in np.unique(PPK_Events.Q):\n",
    "        ppksub = PPK_Events[PPK_Events.Q == thisQ]\n",
    "        y = ppksub['latitude(deg)']\n",
    "        x = ppksub['longitude(deg)']\n",
    "        ax.scatter(x, y, color = C[idx], s = 45, label=labs[idx])\n",
    "        idx += 1\n",
    "    ax.get_xaxis().set_ticks([])\n",
    "    ax.get_yaxis().set_ticks([])\n",
    "    ax.legend(loc = 2)\n",
    "    \n",
    "def convertImages(imageDir, outputDir): \n",
    "    imgList      =  getSortedImages(dataDir, '.ARW')\n",
    "    fullImgNames = [next(os.walk(dataDir))[0] + s for s in imageDir]\n",
    "\n",
    "    if not os.path.exists(outputDir):\n",
    "        os.makedirs(outputDir)\n",
    "    if not os.path.exists(outputDir + 'geoJPEG/'):\n",
    "        os.makedirs(outputDir + 'geoJPEG/')\n",
    "        \n",
    "    print 'converting RAW images to tif ...'\n",
    "    for img in imgList:\n",
    "        # print 'post-processing ' + img + ' to tif...'\n",
    "        ARWimgage = rawpy.imread(dataDir + img)\n",
    "        TIFimage = ARWimgage.postprocess(output_bps = 8)\n",
    "        imageio.imwrite(outputDir + img + '.tiff', TIFimage)\n",
    "\n",
    "def geoTagImages(PPK_Events, imageLocation):    \n",
    "    #Note here that we also generate a list of the processed images    \n",
    "    procList      =  next(os.walk(imageLocation))[2]\n",
    "    \n",
    "    print 'Gathering PPK event data ...'\n",
    "    imglist = getSortedImages(imageLocation, 'tif')\n",
    "    PPK_Events['images'] = imglist\n",
    "\n",
    "    for row in PPK_Events.index:\n",
    "        exif_dict = piexif.load(outputDir + procList[row])\n",
    "\n",
    "        height = gen_HEIGHT(PPK_Events['height(m)'][row])\n",
    "        gpst   = gen_GPSDATE(PPK_Events.Date[0], ppk_events.GPST[row])\n",
    "        lat    = gen_DDMMSS(PPK_Events['latitude(deg)'][row])\n",
    "        lon    = gen_DDMMSS(PPK_Events['longitude(deg)'][row])\n",
    "\n",
    "        gps_ifd = gen_GPSexif(height, gpst, lat, lon)\n",
    "\n",
    "        exif_dict['GPS'] = gps_ifd\n",
    "\n",
    "        exifbytes = piexif.dump(exif_dict)\n",
    "\n",
    "        im = Image.open(outputDir + PPK_Events.images[row])\n",
    "        im.save(outputDir + 'geoJPEG/' + PPK_Events.images[row], \"jpeg\", exif=exifbytes)\n",
    "        im.close()\n"
   ]
  },
  {
   "cell_type": "markdown",
   "metadata": {},
   "source": [
    "### This makes the workflow fairly straight forward\n",
    "#### First the PPK file generated using an EMLID Reach radio is read in as a pandas dataframe, \n",
    "and the sorted image list associated with the specific collection is appended to that dataframe. This lets us 1) check that the number of photos matches the number of 'events' tags in the collection. Currently, using a Sony a6000 and a hotshoe trigger on the Reach, every time the shutter activates, a log file should be entered into the events file. However, after a ton of misery, I figured out that if the fix status of the GNSS receiver at the time of the image acquisition was 'single', meaning not able to be corrected in the context of a base station, the trigger event is removed from the events list -- the problem being, we don't know which photo that corresponds with, and because we rely on the order of images matching up with the order of evens triggerd by the Reach, that puts us SOL."
   ]
  },
  {
   "cell_type": "code",
   "execution_count": 580,
   "metadata": {
    "collapsed": false
   },
   "outputs": [
    {
     "name": "stderr",
     "output_type": "stream",
     "text": [
      "C:\\Anaconda\\lib\\site-packages\\IPython\\kernel\\__main__.py:32: ParserWarning: Falling back to the 'python' engine because the 'c' engine does not support regex separators; you can avoid this warning by specifying engine='python'.\n"
     ]
    },
    {
     "data": {
      "text/html": [
       "<div>\n",
       "<table border=\"1\" class=\"dataframe\">\n",
       "  <thead>\n",
       "    <tr style=\"text-align: right;\">\n",
       "      <th></th>\n",
       "      <th>Date</th>\n",
       "      <th>GPST</th>\n",
       "      <th>latitude(deg)</th>\n",
       "      <th>longitude(deg)</th>\n",
       "      <th>height(m)</th>\n",
       "      <th>Q</th>\n",
       "      <th>ns</th>\n",
       "      <th>sdn(m)</th>\n",
       "      <th>sde(m)</th>\n",
       "      <th>sdu(m)</th>\n",
       "      <th>sdne(m)</th>\n",
       "      <th>sdeu(m)</th>\n",
       "      <th>sdun(m)</th>\n",
       "      <th>age(s)</th>\n",
       "      <th>ratio</th>\n",
       "      <th>images</th>\n",
       "    </tr>\n",
       "  </thead>\n",
       "  <tbody>\n",
       "    <tr>\n",
       "      <th>0</th>\n",
       "      <td>2017/06/20</td>\n",
       "      <td>17:35:34.655</td>\n",
       "      <td>36.958004</td>\n",
       "      <td>-119.022528</td>\n",
       "      <td>2006.2499</td>\n",
       "      <td>1</td>\n",
       "      <td>12</td>\n",
       "      <td>0.0060</td>\n",
       "      <td>0.0061</td>\n",
       "      <td>0.0153</td>\n",
       "      <td>-0.0017</td>\n",
       "      <td>0.0043</td>\n",
       "      <td>-0.0051</td>\n",
       "      <td>-0.0</td>\n",
       "      <td>16.3</td>\n",
       "      <td>DSC00068.ARW.tiff</td>\n",
       "    </tr>\n",
       "    <tr>\n",
       "      <th>1</th>\n",
       "      <td>2017/06/20</td>\n",
       "      <td>17:38:25.056</td>\n",
       "      <td>36.957581</td>\n",
       "      <td>-119.023345</td>\n",
       "      <td>2106.0327</td>\n",
       "      <td>1</td>\n",
       "      <td>14</td>\n",
       "      <td>0.0059</td>\n",
       "      <td>0.0056</td>\n",
       "      <td>0.0134</td>\n",
       "      <td>-0.0015</td>\n",
       "      <td>0.0043</td>\n",
       "      <td>-0.0036</td>\n",
       "      <td>-0.0</td>\n",
       "      <td>9.8</td>\n",
       "      <td>DSC00069.ARW.tiff</td>\n",
       "    </tr>\n",
       "    <tr>\n",
       "      <th>2</th>\n",
       "      <td>2017/06/20</td>\n",
       "      <td>17:38:29.294</td>\n",
       "      <td>36.957752</td>\n",
       "      <td>-119.023369</td>\n",
       "      <td>2106.0288</td>\n",
       "      <td>1</td>\n",
       "      <td>13</td>\n",
       "      <td>0.0061</td>\n",
       "      <td>0.0061</td>\n",
       "      <td>0.0145</td>\n",
       "      <td>-0.0020</td>\n",
       "      <td>0.0057</td>\n",
       "      <td>-0.0041</td>\n",
       "      <td>-0.0</td>\n",
       "      <td>247.1</td>\n",
       "      <td>DSC00070.ARW.tiff</td>\n",
       "    </tr>\n",
       "    <tr>\n",
       "      <th>3</th>\n",
       "      <td>2017/06/20</td>\n",
       "      <td>17:38:33.098</td>\n",
       "      <td>36.957921</td>\n",
       "      <td>-119.023393</td>\n",
       "      <td>2105.9740</td>\n",
       "      <td>1</td>\n",
       "      <td>12</td>\n",
       "      <td>0.0063</td>\n",
       "      <td>0.0060</td>\n",
       "      <td>0.0148</td>\n",
       "      <td>-0.0025</td>\n",
       "      <td>0.0055</td>\n",
       "      <td>-0.0053</td>\n",
       "      <td>-0.0</td>\n",
       "      <td>179.9</td>\n",
       "      <td>DSC00071.ARW.tiff</td>\n",
       "    </tr>\n",
       "    <tr>\n",
       "      <th>4</th>\n",
       "      <td>2017/06/20</td>\n",
       "      <td>17:38:36.634</td>\n",
       "      <td>36.958080</td>\n",
       "      <td>-119.023410</td>\n",
       "      <td>2105.9893</td>\n",
       "      <td>1</td>\n",
       "      <td>13</td>\n",
       "      <td>0.0060</td>\n",
       "      <td>0.0060</td>\n",
       "      <td>0.0144</td>\n",
       "      <td>-0.0023</td>\n",
       "      <td>0.0054</td>\n",
       "      <td>-0.0046</td>\n",
       "      <td>-0.0</td>\n",
       "      <td>34.6</td>\n",
       "      <td>DSC00072.ARW.tiff</td>\n",
       "    </tr>\n",
       "  </tbody>\n",
       "</table>\n",
       "</div>"
      ],
      "text/plain": [
       "         Date          GPST  latitude(deg)  longitude(deg)  height(m)  Q  ns  \\\n",
       "0  2017/06/20  17:35:34.655      36.958004     -119.022528  2006.2499  1  12   \n",
       "1  2017/06/20  17:38:25.056      36.957581     -119.023345  2106.0327  1  14   \n",
       "2  2017/06/20  17:38:29.294      36.957752     -119.023369  2106.0288  1  13   \n",
       "3  2017/06/20  17:38:33.098      36.957921     -119.023393  2105.9740  1  12   \n",
       "4  2017/06/20  17:38:36.634      36.958080     -119.023410  2105.9893  1  13   \n",
       "\n",
       "   sdn(m)  sde(m)  sdu(m)  sdne(m)  sdeu(m)  sdun(m)  age(s)  ratio  \\\n",
       "0  0.0060  0.0061  0.0153  -0.0017   0.0043  -0.0051    -0.0   16.3   \n",
       "1  0.0059  0.0056  0.0134  -0.0015   0.0043  -0.0036    -0.0    9.8   \n",
       "2  0.0061  0.0061  0.0145  -0.0020   0.0057  -0.0041    -0.0  247.1   \n",
       "3  0.0063  0.0060  0.0148  -0.0025   0.0055  -0.0053    -0.0  179.9   \n",
       "4  0.0060  0.0060  0.0144  -0.0023   0.0054  -0.0046    -0.0   34.6   \n",
       "\n",
       "              images  \n",
       "0  DSC00068.ARW.tiff  \n",
       "1  DSC00069.ARW.tiff  \n",
       "2  DSC00070.ARW.tiff  \n",
       "3  DSC00071.ARW.tiff  \n",
       "4  DSC00072.ARW.tiff  "
      ]
     },
     "execution_count": 580,
     "metadata": {},
     "output_type": "execute_result"
    }
   ],
   "source": [
    "imgList      =  next(os.walk(dataDir))[2]\n",
    "fullImgNames = [next(os.walk(dataDir))[0] + s for s in imageDir]\n",
    "\n",
    "# Here's what the events file looks like with the appended photo names\n",
    "ppk_events = get_pos_file(dataDir)\n",
    "imglist = getSortedImages(outputDir)\n",
    "ppk_events['images'] = imglist\n",
    "ppk_events.head()"
   ]
  },
  {
   "cell_type": "markdown",
   "metadata": {},
   "source": [
    "### To visualize what this looks like\n",
    "We can plot the track of the UAS over the course of the events log (note, we're not actually tracking the entire flight of the UAS... just connecting the dots between when it supposedly acquired an image). We can go a step further and colorize the images according to the level of certainty that we have about its location. Green indicates an integer fix, gray a float fix, and orange a single.\n",
    "\n",
    "I'll work on getting a scale bar in the scene instead of the axes in the future."
   ]
  },
  {
   "cell_type": "code",
   "execution_count": 568,
   "metadata": {
    "collapsed": false
   },
   "outputs": [
    {
     "data": {
      "image/png": "[encoded data removed]",
      "text/plain": [
       "<matplotlib.figure.Figure at 0x2c8de9e8>"
      ]
     },
     "metadata": {},
     "output_type": "display_data"
    }
   ],
   "source": [
    "plotEvents(ppk_events)"
   ]
  },
  {
   "cell_type": "markdown",
   "metadata": {},
   "source": [
    "### Now that we have the GNSS post-processed data\n",
    "in a format that we can use and combine with specific images, we are ready to move on to inserting the geotagged data into the images themselves. Really though, we need to do some converting from RAW first, and then we're going to add the exif data into a copy of the converted image.\n",
    "\n",
    "### Read in the RAW image\n",
    "and convert it to a tif with a specific set of parameters to control brightness, and bit depth. Currently it was far simpler to append exif data with specific geotags to a JPEG compressed version of the image. That being said, we ultimately want to be operating on the 16 bit version of teh geoTIFF output from the RAW version of the image. For the time being, the current workflow is to read in the RAW image, export an 8 bit tif, and create a JPEG compressed copy that contains the geolocation exif data.\n"
   ]
  },
  {
   "cell_type": "code",
   "execution_count": 445,
   "metadata": {
    "collapsed": true
   },
   "outputs": [],
   "source": [
    "if not os.path.exists(outputDir):\n",
    "    os.makedirs(outputDir)\n",
    "    \n",
    "if not os.path.exists(outputDir + 'geoJPEG/'):\n",
    "    os.makedirs(outputDir + 'geoJPEG/')\n",
    "\n",
    "for img in imgList:\n",
    "    # print 'post-processing ' + img + ' to tif...'\n",
    "    ARWimgage = rawpy.imread(dataDir + img)\n",
    "    TIFimage = ARWimgage.postprocess(output_bps = 8)\n",
    "    imageio.imwrite(outputDir + img + '.tiff', TIFimage)\n",
    "    \n",
    "# Note here that we also generate a list of the processed images    \n",
    "procList      =  next(os.walk(outputDir))[2]\n",
    "fullProcNames = [next(os.walk(outputDir))[0] + s for s in procList]"
   ]
  },
  {
   "cell_type": "markdown",
   "metadata": {},
   "source": [
    "### Now we can generate some variables to insert into the exif data\n",
    "for the processed imagery. I start here by creating the variables we need to include in the exif data to 'geotag' the images. Then we load the exif data from an image into a dictionary, and insert another dictionary with a specific name 'GPS' into it. This GPS dict has a very specific format for how information needs to be described, and the ontology here is rather unforgiving. Here is an example for a single image."
   ]
  },
  {
   "cell_type": "code",
   "execution_count": 574,
   "metadata": {
    "collapsed": false
   },
   "outputs": [
    {
     "name": "stdout",
     "output_type": "stream",
     "text": [
      "height: (20116612, 10000)\n",
      "GPS time: 2017:06:20 17:35:34.655\n",
      "Latitude:((36, 1), (5748, 100), (5748082, 100000))\n",
      "Longitude:((120, 1), (5864, 100), (5864859, 100000))\n"
     ]
    }
   ],
   "source": [
    "height = gen_HEIGHT(test['height(m)'][0])\n",
    "gpst   = gen_GPSDATE(test.Date[0], test.GPST[0])\n",
    "lat    = gen_DDMMSS(test['latitude(deg)'][0])\n",
    "lon    = gen_DDMMSS(test['longitude(deg)'][0])\n",
    "print 'Height: ' + str(height)\n",
    "print 'GPS time: ' + str(gpst)\n",
    "print 'Latitude:' + str(lat)\n",
    "print 'Longitude:' + str(lon)"
   ]
  },
  {
   "cell_type": "markdown",
   "metadata": {},
   "source": [
    "#### Notice here that while this particular image was collected in CA,\n",
    "the longitude degrees field is positive. There is a separate GPSLongitudeRef field that we must specify in the exif dictionary to indicate 'W' or 'E'. The whole dictionary is full of requirements like this, and summary descriptions of the exif header data are cryptic at best. The libary piexif was the best tool I could find to make this a less painful process, and even still the documentation is lacking, and rife with errors. \n",
    "\n",
    "#### Now we can create a template for the exif data"
   ]
  },
  {
   "cell_type": "code",
   "execution_count": 576,
   "metadata": {
    "collapsed": false
   },
   "outputs": [
    {
     "data": {
      "text/plain": [
       "{'0th': {254: 0,\n",
       "  256: 6024,\n",
       "  257: 4024,\n",
       "  258: (8, 8, 8),\n",
       "  259: 1,\n",
       "  262: 2,\n",
       "  270: '{\"shape\": [4024, 6024, 3]}',\n",
       "  273: 291,\n",
       "  277: 3,\n",
       "  278: 4024,\n",
       "  279: 72721728,\n",
       "  284: 1,\n",
       "  305: 'tifffile.py',\n",
       "  306: '2017:12:12 10:22:51',\n",
       "  339: 1},\n",
       " '1st': {},\n",
       " 'Exif': {},\n",
       " 'GPS': {},\n",
       " 'Interop': {},\n",
       " 'thumbnail': None}"
      ]
     },
     "execution_count": 576,
     "metadata": {},
     "output_type": "execute_result"
    }
   ],
   "source": [
    "exif_dict = piexif.load(outputDir + procList[1])\n",
    "exif_dict"
   ]
  },
  {
   "cell_type": "markdown",
   "metadata": {},
   "source": [
    "### Note the empty 'GPS' entry in the parent dictionary.\n",
    "This is the field that we must inser the following data into. The rest of the exif modification workflow is pretty straight forward, so long as the cryptic format for each individual field is followed precisely."
   ]
  },
  {
   "cell_type": "code",
   "execution_count": 579,
   "metadata": {
    "collapsed": false
   },
   "outputs": [],
   "source": [
    "# Create the GPS dictionary\n",
    "gps_if = { piexif.GPSIFD.GPSVersionID: (2, 3, 0, 0),\n",
    "           piexif.GPSIFD.GPSLatitude: lat,\n",
    "           piexif.GPSIFD.GPSLatitudeRef: 'N',\n",
    "           piexif.GPSIFD.GPSLongitude: lon,\n",
    "           piexif.GPSIFD.GPSLongitudeRef: 'W',\n",
    "           piexif.GPSIFD.GPSAltitude: height,\n",
    "           piexif.GPSIFD.GPSAltitudeRef: 0,\n",
    "           piexif.GPSIFD.GPSDateStamp: gpst\n",
    "          }\n",
    "\n",
    "# Add the dictionary to the larger exif dict that we loaded from the image\n",
    "exif_dict['GPS'] = gps_if\n",
    "\n",
    "# Convert the exif dict to bytes\n",
    "exifbytes = piexif.dump(exif_dict)\n",
    "\n",
    "# Use PIL to open a copy of the image, and save a copy with explicit new exif data\n",
    "im = Image.open(outputDir + procList[0])\n",
    "im.save(outputDir + 'geoJPEG/' + procList[0], \"jpeg\", exif=exifbytes)\n",
    "im.close()"
   ]
  },
  {
   "cell_type": "markdown",
   "metadata": {},
   "source": [
    "### Those being the separate steps for each individual image,\n",
    "We can apply them to entire batches of images, for instance for a given flight. This reduces the workflow to a couple tasks, 1) get the PPK data, 2) convert the imagery (if it is indeed in RAW format), and 3) write the geotags to the exif data. Pretty slick, but data structures are important. See the README for example file formats and directory structures.\n",
    "\n",
    "#### Here is the resulting code to complete the conversion and geotagging"
   ]
  },
  {
   "cell_type": "code",
   "execution_count": 616,
   "metadata": {
    "collapsed": false
   },
   "outputs": [
    {
     "name": "stdout",
     "output_type": "stream",
     "text": [
      "Gathering PPK event data ...\n"
     ]
    }
   ],
   "source": [
    "dataDir    = 'Y:/DanK/SfM/Teakettle_2017/Photos/BC1_1/'\n",
    "outputDir  = 'Y:/DanK/SfM/Teakettle_2017/Photos/BC1_1/tifOutput/'\n",
    "ppk_events = get_pos_file(dataDir)\n",
    "\n",
    "convertImages(dataDir, outputDir)\n",
    "geoTagImages(ppk_events, outputDir)"
   ]
  }
 ],
 "metadata": {
  "kernelspec": {
   "display_name": "Python 2",
   "language": "python",
   "name": "python2"
  },
  "language_info": {
   "codemirror_mode": {
    "name": "ipython",
    "version": 2
   },
   "file_extension": ".py",
   "mimetype": "text/x-python",
   "name": "python",
   "nbconvert_exporter": "python",
   "pygments_lexer": "ipython2",
   "version": "2.7.12"
  }
 },
 "nbformat": 4,
 "nbformat_minor": 0
}
